{
  "nbformat": 4,
  "nbformat_minor": 0,
  "metadata": {
    "colab": {
      "name": "Cipher.ipynb",
      "provenance": [],
      "collapsed_sections": [],
      "authorship_tag": "ABX9TyMwLhtQ8dReYYf6KuDqhz/i",
      "include_colab_link": true
    },
    "kernelspec": {
      "name": "python3",
      "display_name": "Python 3"
    }
  },
  "cells": [
    {
      "cell_type": "markdown",
      "metadata": {
        "id": "view-in-github",
        "colab_type": "text"
      },
      "source": [
        "<a href=\"https://colab.research.google.com/github/jeepster/CipherDecryption/blob/master/Cipher.ipynb\" target=\"_parent\"><img src=\"https://colab.research.google.com/assets/colab-badge.svg\" alt=\"Open In Colab\"/></a>"
      ]
    },
    {
      "cell_type": "code",
      "metadata": {
        "id": "4H0xn7EGGg_m",
        "colab_type": "code",
        "colab": {}
      },
      "source": [
        ""
      ],
      "execution_count": 0,
      "outputs": []
    },
    {
      "cell_type": "code",
      "metadata": {
        "id": "5XgKTMRwUHu6",
        "colab_type": "code",
        "colab": {}
      },
      "source": [
        "# IMplementing Cipher Decryption algorithm using Markov model\n",
        "# Including Unigrams,Bigrams,Trigrams in probability matrices of language model\n",
        "\n",
        "import numpy as np\n",
        "import matplotlib.pyplot as plt\n",
        "\n",
        "import string\n",
        "import random\n",
        "import re\n",
        "import requests\n",
        "import os\n",
        "import textwrap"
      ],
      "execution_count": 0,
      "outputs": []
    },
    {
      "cell_type": "code",
      "metadata": {
        "id": "zMrtqw5DUNp3",
        "colab_type": "code",
        "colab": {}
      },
      "source": [
        "### create substitution cipher\n",
        "\n",
        "# one will act as the key, other as the value\n",
        "letters1 = list(string.ascii_lowercase)\n",
        "letters2 = list(string.ascii_lowercase)\n",
        "\n",
        "true_mapping = {}\n",
        "\n",
        "# shuffle second set of letters\n",
        "random.shuffle(letters2)\n",
        "\n",
        "# populate map\n",
        "for k, v in zip(letters1, letters2):\n",
        "  true_mapping[k] = v"
      ],
      "execution_count": 0,
      "outputs": []
    },
    {
      "cell_type": "code",
      "metadata": {
        "id": "IyAGzd5iUQ_W",
        "colab_type": "code",
        "colab": {}
      },
      "source": [
        "### the language model\n",
        "\n",
        "# initialize Markov matrix\n",
        "M2 = np.ones((26, 26, 26))\n",
        "\n",
        "# initialize Markov matrix\n",
        "M = np.ones((26, 26))\n",
        "\n",
        "# initial state distribution\n",
        "pi = np.zeros(26)\n",
        "\n",
        "# a function to update the Markov matrix\n",
        "def update_transition(ch1, ch2, ch3):\n",
        "  # ord('a') = 97, ord('b') = 98, ...\n",
        "  i = ord(ch1) - 97\n",
        "  j = ord(ch2) - 97\n",
        "  k = ord(ch3) - 97\n",
        "  M[i,j] += 1\n",
        "  M2[i,j,k] += 1\n",
        "\n",
        "# a function to update the initial state distribution\n",
        "def update_pi(ch):\n",
        "  i = ord(ch) - 97\n",
        "  pi[i] += 1\n",
        "\n",
        "# get the log-probability of a word / token\n",
        "def get_word_prob(word):\n",
        "  # print(\"word:\", word)\n",
        "  i = ord(word[0]) - 97\n",
        "  logp = np.log(pi[i])\n",
        "\n",
        "  for ch in word[1:]:\n",
        "    j = ord(ch) - 97\n",
        "    logp += np.log(M[i, j]) # update prob\n",
        "    for ch in word[2:]:\n",
        "      k = ord(ch) - 97\n",
        "      logp += np.log(M2[i,j,k])\n",
        "      i = j\n",
        "      j = k\n",
        "    \n",
        "  return logp\n",
        "\n",
        "# get the probability of a sequence of words\n",
        "def get_sequence_prob(words):\n",
        "  # if input is a string, split into an array of tokens\n",
        "  if type(words) == str:\n",
        "    words = words.split()\n",
        "\n",
        "  logp = 0\n",
        "  for word in words:\n",
        "    logp += get_word_prob(word)\n",
        "  return logp"
      ],
      "execution_count": 0,
      "outputs": []
    },
    {
      "cell_type": "code",
      "metadata": {
        "id": "sEUrJ4J_UU-w",
        "colab_type": "code",
        "colab": {}
      },
      "source": [
        "### create a markov model based on an English dataset\n",
        "# is an edit of https://www.gutenberg.org/ebooks/2701\n",
        "# (I removed the front and back matter)\n",
        "\n",
        "# download the file\n",
        "if not os.path.exists('moby_dick.txt'):\n",
        "  print(\"Downloading moby dick...\")\n",
        "  r = requests.get('https://drive.google.com/file/d/1RFod4OwMk-Wa2YImEQYxTa_APLRc_Spu/view?usp=sharing')\n",
        "  with open('moby_dick.txt', 'w') as f:\n",
        "    f.write(r.content.decode())"
      ],
      "execution_count": 0,
      "outputs": []
    },
    {
      "cell_type": "code",
      "metadata": {
        "id": "PxacIxtyUZFd",
        "colab_type": "code",
        "outputId": "78ac93d5-9c2a-47ca-d4d8-bbac52b37625",
        "colab": {
          "base_uri": "https://localhost:8080/",
          "height": 140
        }
      },
      "source": [
        "# for replacing non-alpha characters\n",
        "regex = re.compile('[^a-zA-Z]')\n",
        "\n",
        "# load in words\n",
        "for line in open('moby_dick.txt'):\n",
        "  line = line.rstrip()\n",
        "\n",
        "  # there are blank lines in the file\n",
        "  if line:\n",
        "    line = regex.sub(' ', line) # replace all non-alpha characters with space\n",
        "\n",
        "    # split the tokens in the line and lowercase\n",
        "    tokens = line.lower().split()\n",
        "\n",
        "    for token in tokens:\n",
        "      # update the model\n",
        "\n",
        "      # first letter\n",
        "      ch0 = token[0]\n",
        "      update_pi(ch0)\n",
        "\n",
        "      # other letters\n",
        "      for ch1 in token[1:]:\n",
        "        for ch2 in token[2:]:\n",
        "          update_transition(ch0, ch1, ch2)\n",
        "          ch0 = ch1\n",
        "          ch1 = ch2\n",
        "\n",
        "# normalize the probabilities\n",
        "pi /= pi.sum()\n",
        "M /= M.sum(axis=1, keepdims=True)\n",
        "M2 /= M2.sum(axis=1, keepdims=True)\n",
        "print(pi)"
      ],
      "execution_count": 24,
      "outputs": [
        {
          "output_type": "stream",
          "text": [
            "[1.09454034e-01 5.20069678e-02 3.89842666e-02 2.71213123e-02\n",
            " 1.82485492e-02 3.85045319e-02 1.63296103e-02 6.39397863e-02\n",
            " 6.72094345e-02 3.90774189e-03 4.42939516e-03 2.83136627e-02\n",
            " 3.90727613e-02 2.23239653e-02 6.49737776e-02 2.81599612e-02\n",
            " 3.33485482e-03 1.80063530e-02 9.26074280e-02 1.64227627e-01\n",
            " 1.23054280e-02 7.33574908e-03 6.73817664e-02 2.32880923e-05\n",
            " 1.16393885e-02 1.58359028e-04]\n"
          ],
          "name": "stdout"
        }
      ]
    },
    {
      "cell_type": "code",
      "metadata": {
        "id": "3FxNj6V2UdM3",
        "colab_type": "code",
        "colab": {}
      },
      "source": [
        "### encode a message\n",
        "\n",
        "# this is a random excerpt from Project Gutenberg's\n",
        "# The Adventures of Sherlock Holmes, by Arthur Conan Doyle\n",
        "# https://www.gutenberg.org/ebooks/1661\n",
        "\n",
        "original_message = '''I then lounged down the street and found,\n",
        "as I expected, that there was a mews in a lane which runs down\n",
        "by one wall of the garden. I lent the ostlers a hand in rubbing\n",
        "down their horses, and received in exchange twopence, a glass of\n",
        "half-and-half, two fills of shag tobacco, and as much information\n",
        "as I could desire about Miss Adler, to say nothing of half a dozen\n",
        "other people in the neighbourhood in whom I was not in the least\n",
        "interested, but whose biographies I was compelled to listen to.\n",
        "\n",
        "\n",
        "Away they went, and I was just wondering whether I should not do well\n",
        "to follow them when up the lane came a neat little landau, the coachman\n",
        "with his coat only half-buttoned, and his tie under his ear, while all\n",
        "the tags of his harness were sticking out of the buckles. It hadn't\n",
        "pulled up before she shot out of the hall door and into it. I only\n",
        "caught a glimpse of her at the moment, but she was a lovely woman, with\n",
        "a face that a man might die for.\n",
        "\n",
        "My cabby drove fast. I don't think I ever drove faster, but the others\n",
        "were there before us. The cab and the landau with their steaming horses\n",
        "were in front of the door when I arrived. I paid the man and hurried\n",
        "into the church. There was not a soul there save the two whom I had\n",
        "followed and a surpliced clergyman, who seemed to be expostulating with\n",
        "them. They were all three standing in a knot in front of the altar. I\n",
        "lounged up the side aisle like any other idler who has dropped into a\n",
        "church. Suddenly, to my surprise, the three at the altar faced round to\n",
        "me, and Godfrey Norton came running as hard as he could towards me.\n",
        "'''"
      ],
      "execution_count": 0,
      "outputs": []
    },
    {
      "cell_type": "code",
      "metadata": {
        "id": "LRuQ15YJUgDm",
        "colab_type": "code",
        "colab": {}
      },
      "source": [
        "# a function to encode a message\n",
        "def encode_message(msg):\n",
        "  # downcase\n",
        "  msg = msg.lower()\n",
        "\n",
        "  # replace non-alpha characters\n",
        "  msg = regex.sub(' ', msg)\n",
        "\n",
        "  # make the encoded message\n",
        "  coded_msg = []\n",
        "  for ch in msg:\n",
        "    coded_ch = ch # could just be a space\n",
        "    if ch in true_mapping:\n",
        "      coded_ch = true_mapping[ch]\n",
        "    coded_msg.append(coded_ch)\n",
        "\n",
        "  return ''.join(coded_msg)\n",
        "\n",
        "\n",
        "encoded_message = encode_message(original_message)\n",
        "\n",
        "\n",
        "# a function to decode a message\n",
        "def decode_message(msg, word_map):\n",
        "  decoded_msg = []\n",
        "  for ch in msg:\n",
        "    decoded_ch = ch # could just be a space\n",
        "    if ch in word_map:\n",
        "      decoded_ch = word_map[ch]\n",
        "    decoded_msg.append(decoded_ch)\n",
        "\n",
        "  return ''.join(decoded_msg)"
      ],
      "execution_count": 0,
      "outputs": []
    },
    {
      "cell_type": "code",
      "metadata": {
        "id": "Ogy2tFp2UjEW",
        "colab_type": "code",
        "colab": {}
      },
      "source": [
        "### run an evolutionary algorithm to decode the message\n",
        "\n",
        "# this is our initialization point\n",
        "dna_pool = []\n",
        "for _ in range(20):\n",
        "  dna = list(string.ascii_lowercase)\n",
        "  random.shuffle(dna)\n",
        "  dna_pool.append(dna)"
      ],
      "execution_count": 0,
      "outputs": []
    },
    {
      "cell_type": "code",
      "metadata": {
        "id": "rHjSLs-OU33M",
        "colab_type": "code",
        "colab": {}
      },
      "source": [
        "def evolve_offspring(dna_pool, n_children):\n",
        "  # make n_children per offspring\n",
        "  offspring = []\n",
        "\n",
        "  for dna in dna_pool:\n",
        "    for _ in range(n_children):\n",
        "      copy = dna.copy()\n",
        "      j = np.random.randint(len(copy))\n",
        "      k = np.random.randint(len(copy))\n",
        "\n",
        "      # switch\n",
        "      tmp = copy[j]\n",
        "      copy[j] = copy[k]\n",
        "      copy[k] = tmp\n",
        "      offspring.append(copy)\n",
        "\n",
        "  return offspring + dna_pool"
      ],
      "execution_count": 0,
      "outputs": []
    },
    {
      "cell_type": "code",
      "metadata": {
        "id": "C6lnKzJkUnzn",
        "colab_type": "code",
        "outputId": "fd886a83-bad4-475e-c269-2565d9132be7",
        "colab": {
          "base_uri": "https://localhost:8080/",
          "height": 142
        }
      },
      "source": [
        "num_iters = 1000\n",
        "scores = np.zeros(num_iters)\n",
        "best_dna = None\n",
        "best_map = None\n",
        "best_score = float('-inf')\n",
        "for i in range(num_iters):\n",
        "  if i > 0:\n",
        "    # get offspring from the current dna pool\n",
        "    dna_pool = evolve_offspring(dna_pool, 3)\n",
        "\n",
        "  # calculate score for each dna\n",
        "  dna2score = {}\n",
        "  for dna in dna_pool:\n",
        "    # populate map\n",
        "    current_map = {}\n",
        "    for k, v in zip(letters1, dna):\n",
        "      current_map[k] = v\n",
        "\n",
        "    decoded_message = decode_message(encoded_message, current_map)\n",
        "    score = get_sequence_prob(decoded_message)\n",
        "\n",
        "    # store it\n",
        "    # needs to be a string to be a dict key\n",
        "    dna2score[''.join(dna)] = score\n",
        "\n",
        "    # record the best so far\n",
        "    if score > best_score:\n",
        "      best_dna = dna\n",
        "      best_map = current_map\n",
        "      best_score = score\n",
        "\n",
        "  # average score for this generation\n",
        "  scores[i] = np.mean(list(dna2score.values()))\n",
        "\n",
        "  # keep the best 5 dna\n",
        "  # also turn them back into list of single chars\n",
        "  # list('abcde') outputs a list of single chars i.e. ['a', 'b', 'c', 'd', 'e']\n",
        "  sorted_dna = sorted(dna2score.items(), key=lambda x: x[1], reverse=True)\n",
        "  dna_pool = [list(k) for k, v in sorted_dna[:5]]\n",
        "\n",
        "  if i % 200 == 0:\n",
        "    print(\"iter:\", i, \"score:\", scores[i], \"best so far:\", best_score)\n",
        "print(best_map)"
      ],
      "execution_count": 29,
      "outputs": [
        {
          "output_type": "stream",
          "text": [
            "iter: 0 score: -19938.673937534826 best so far: -18015.24202729173\n",
            "iter: 200 score: -10267.561653802393 best so far: -9468.610167496303\n",
            "iter: 400 score: -10208.150450910924 best so far: -9438.47623891531\n",
            "iter: 600 score: -10645.899065366139 best so far: -9438.47623891531\n",
            "iter: 800 score: -10597.028882045433 best so far: -9438.47623891531\n",
            "{'a': 'j', 'b': 'f', 'c': 't', 'd': 'r', 'e': 'd', 'f': 'i', 'g': 'g', 'h': 'm', 'i': 'p', 'j': 'l', 'k': 'z', 'l': 'h', 'm': 'b', 'n': 'v', 'o': 'x', 'p': 'q', 'q': 'e', 'r': 'n', 's': 's', 't': 'w', 'u': 'u', 'v': 'o', 'w': 'y', 'x': 'a', 'y': 'c', 'z': 'k'}\n"
          ],
          "name": "stdout"
        }
      ]
    },
    {
      "cell_type": "code",
      "metadata": {
        "id": "TBI4r2roUqP9",
        "colab_type": "code",
        "outputId": "f742c37f-ceca-4516-f5f9-140789d08c7d",
        "colab": {
          "base_uri": "https://localhost:8080/",
          "height": 52
        }
      },
      "source": [
        "# use best score\n",
        "decoded_message = decode_message(encoded_message, best_map)\n",
        "\n",
        "print(\"LL of decoded message:\", get_sequence_prob(decoded_message))\n",
        "print(\"LL of true message:\", get_sequence_prob(regex.sub(' ', original_message.lower())))\n",
        "\n",
        "\n",
        "# which letters are wrong?\n",
        "for true, v in true_mapping.items():\n",
        "  pred = best_map[v]\n",
        "  if true != pred:\n",
        "    print(\"true: %s, pred: %s\" % (true, pred))"
      ],
      "execution_count": 30,
      "outputs": [
        {
          "output_type": "stream",
          "text": [
            "LL of decoded message: -9438.47623891531\n",
            "LL of true message: -9438.47623891531\n"
          ],
          "name": "stdout"
        }
      ]
    },
    {
      "cell_type": "code",
      "metadata": {
        "id": "cZqTut0mU-6S",
        "colab_type": "code",
        "outputId": "d3c9f68e-3fc4-46c5-a7b4-3c128d6f84e7",
        "colab": {
          "base_uri": "https://localhost:8080/",
          "height": 967
        }
      },
      "source": [
        "# print the final decoded message\n",
        "print(\"Decoded message:\\n\", textwrap.fill(decoded_message))\n",
        "\n",
        "print(\"\\nTrue message:\\n\", original_message)"
      ],
      "execution_count": 31,
      "outputs": [
        {
          "output_type": "stream",
          "text": [
            "Decoded message:\n",
            " i then lounged down the street and found  as i expected  that there\n",
            "was a mews in a lane which runs down by one wall of the garden  i lent\n",
            "the ostlers a hand in rubbing down their horses  and received in\n",
            "exchange twopence  a glass of half and half  two fills of shag tobacco\n",
            "and as much information as i could desire about miss adler  to say\n",
            "nothing of half a dozen other people in the neighbourhood in whom i\n",
            "was not in the least interested  but whose biographies i was compelled\n",
            "to listen to    away they went  and i was just wondering whether i\n",
            "should not do well to follow them when up the lane came a neat little\n",
            "landau  the coachman with his coat only half buttoned  and his tie\n",
            "under his ear  while all the tags of his harness were sticking out of\n",
            "the buckles  it hadn t pulled up before she shot out of the hall door\n",
            "and into it  i only caught a glimpse of her at the moment  but she was\n",
            "a lovely woman  with a face that a man might die for   my cabby drove\n",
            "fast  i don t think i ever drove faster  but the others were there\n",
            "before us  the cab and the landau with their steaming horses were in\n",
            "front of the door when i arrived  i paid the man and hurried into the\n",
            "church  there was not a soul there save the two whom i had followed\n",
            "and a surpliced clergyman  who seemed to be expostulating with them\n",
            "they were all three standing in a knot in front of the altar  i\n",
            "lounged up the side aisle like any other idler who has dropped into a\n",
            "church  suddenly  to my surprise  the three at the altar faced round\n",
            "to me  and godfrey norton came running as hard as he could towards me\n",
            "\n",
            "True message:\n",
            " I then lounged down the street and found,\n",
            "as I expected, that there was a mews in a lane which runs down\n",
            "by one wall of the garden. I lent the ostlers a hand in rubbing\n",
            "down their horses, and received in exchange twopence, a glass of\n",
            "half-and-half, two fills of shag tobacco, and as much information\n",
            "as I could desire about Miss Adler, to say nothing of half a dozen\n",
            "other people in the neighbourhood in whom I was not in the least\n",
            "interested, but whose biographies I was compelled to listen to.\n",
            "\n",
            "\n",
            "Away they went, and I was just wondering whether I should not do well\n",
            "to follow them when up the lane came a neat little landau, the coachman\n",
            "with his coat only half-buttoned, and his tie under his ear, while all\n",
            "the tags of his harness were sticking out of the buckles. It hadn't\n",
            "pulled up before she shot out of the hall door and into it. I only\n",
            "caught a glimpse of her at the moment, but she was a lovely woman, with\n",
            "a face that a man might die for.\n",
            "\n",
            "My cabby drove fast. I don't think I ever drove faster, but the others\n",
            "were there before us. The cab and the landau with their steaming horses\n",
            "were in front of the door when I arrived. I paid the man and hurried\n",
            "into the church. There was not a soul there save the two whom I had\n",
            "followed and a surpliced clergyman, who seemed to be expostulating with\n",
            "them. They were all three standing in a knot in front of the altar. I\n",
            "lounged up the side aisle like any other idler who has dropped into a\n",
            "church. Suddenly, to my surprise, the three at the altar faced round to\n",
            "me, and Godfrey Norton came running as hard as he could towards me.\n",
            "\n"
          ],
          "name": "stdout"
        }
      ]
    },
    {
      "cell_type": "code",
      "metadata": {
        "id": "3CycJAYFVfoW",
        "colab_type": "code",
        "outputId": "adf29371-3d2d-497c-b70d-78fc777a4bd0",
        "colab": {
          "base_uri": "https://localhost:8080/",
          "height": 265
        }
      },
      "source": [
        "plt.plot(scores)\n",
        "plt.show()"
      ],
      "execution_count": 32,
      "outputs": [
        {
          "output_type": "display_data",
          "data": {
            "image/png": "[encoded data removed]",
            "text/plain": [
              "<Figure size 432x288 with 1 Axes>"
            ]
          },
          "metadata": {
            "tags": [],
            "needs_background": "light"
          }
        }
      ]
    }
  ]
}
